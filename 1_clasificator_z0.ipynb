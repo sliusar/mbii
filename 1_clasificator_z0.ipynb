{
 "cells": [
  {
   "cell_type": "code",
   "execution_count": 1,
   "metadata": {},
   "outputs": [],
   "source": [
    "%matplotlib inline\n",
    "import matplotlib.pyplot as plt\n",
    "from astropy.time import Time\n",
    "#import astropysics.phot as phot\n",
    "import math\n",
    "from matplotlib.backends.backend_pdf import PdfPages\n",
    "import matplotlib\n",
    "import sys, time\n",
    "import numpy as np\n",
    "import scipy.signal as signal\n",
    "\n",
    "import scipy\n",
    "from scipy.stats import linregress\n",
    "from IPython.display import clear_output\n",
    "\n",
    "from scipy import stats\n",
    "\n",
    "\n",
    "def jobs_manager():\n",
    "    from IPython.lib.backgroundjobs import BackgroundJobManager\n",
    "    from IPython.core.magic import register_line_magic\n",
    "    from IPython import get_ipython\n",
    "\n",
    "    jobs = BackgroundJobManager()\n",
    "\n",
    "    @register_line_magic\n",
    "    def job(line):\n",
    "        ip = get_ipython()\n",
    "        jobs.new(line, ip.user_global_ns)\n",
    "\n",
    "    return jobs\n",
    "\n",
    "jobs = jobs_manager()"
   ]
  },
  {
   "cell_type": "code",
   "execution_count": 2,
   "metadata": {},
   "outputs": [],
   "source": [
    "def read_file_columns(filename, columns, types=None):\n",
    "    res = []\n",
    "    with open(filename, \"r\") as lines:\n",
    "        for line in lines:\n",
    "            if \"#\" in line:\n",
    "                continue\n",
    "            line = line.split()\n",
    "            l = []\n",
    "            for i in range(0, len(columns)):\n",
    "                c = columns[i]\n",
    "                if types is None:\n",
    "                    l.append(line[c])\n",
    "                else:\n",
    "                    l.append(types[i](line[c]))\n",
    "            res.append(np.array(l))\n",
    "    return np.array(res)"
   ]
  },
  {
   "cell_type": "code",
   "execution_count": 3,
   "metadata": {},
   "outputs": [
    {
     "data": {
      "text/plain": [
       "((4633801, 4), (4633801, 4))"
      ]
     },
     "execution_count": 3,
     "metadata": {},
     "output_type": "execute_result"
    }
   ],
   "source": [
    "coordinates_file = \"./coordinates/z0_085_coordinates.dat\"\n",
    "properties_file = \"./properties/z0_085.dat\"\n",
    "\n",
    "coord = read_file_columns(coordinates_file, [0, 1, 2, 3], types=[int, int, float, float])\n",
    "#Subhalo        Group   IsCentral       Mass    Gas     DarkMatter      Stellar Blackhole       BHAccr.Rate     S-F.Rate        Rcirc   Vcirc   Vdisp   X       Y       Z       SDSS.i  SDDD.r  SDDD.g  SDDD.u  SDDD.z\n",
    "#      0            1           2          3      4              5            6         7                 8            9           10      11    \n",
    "prop = read_file_columns(properties_file, [0, 5, 6, 7], types=[int, float, float, float])\n",
    "coord.shape, prop.shape"
   ]
  },
  {
   "cell_type": "code",
   "execution_count": 4,
   "metadata": {},
   "outputs": [],
   "source": [
    "ids = np.intersect1d(coord[:,0], prop[:,0], assume_unique=True)\n",
    "\n",
    "coord = coord[np.in1d(coord[:,0], ids, assume_unique=True)]\n",
    "prop = prop[np.in1d(prop[:,0], ids, assume_unique=True)]"
   ]
  },
  {
   "cell_type": "code",
   "execution_count": 5,
   "metadata": {},
   "outputs": [],
   "source": [
    "all_data=np.concatenate((coord, prop[:,[1,2,3]]), axis=1)\n",
    "#ID GROUP X Y DarkMatter      Stellar Blackhole\n",
    "# 0     1 2 3          4            5         6\n",
    "\n",
    "x = all_data[:,[2, 3, 0]]\n",
    "subhalos_x = all_data[:,[2, 3, 0]][all_data[:,6] > 0]"
   ]
  },
  {
   "cell_type": "code",
   "execution_count": 6,
   "metadata": {},
   "outputs": [
    {
     "data": {
      "text/plain": [
       "((4633801, 3), (68306, 3))"
      ]
     },
     "execution_count": 6,
     "metadata": {},
     "output_type": "execute_result"
    }
   ],
   "source": [
    "x.shape, subhalos_x.shape"
   ]
  },
  {
   "cell_type": "code",
   "execution_count": 7,
   "metadata": {},
   "outputs": [],
   "source": [
    "def delta_ellipse(x, y, a2, r2, alpha_sin, alpha_cos):\n",
    "    s = alpha_sin\n",
    "    c = alpha_cos\n",
    "    res = ((x*c + y*s)**2)/a2 + ((-x*s + y*c)**2) <= r2\n",
    "    return np.count_nonzero(res)\n",
    "\n",
    "def delta_circle(x, y, r2):\n",
    "    res = (x**2) + (y**2) <= r2\n",
    "    return np.count_nonzero(res)"
   ]
  },
  {
   "cell_type": "code",
   "execution_count": 8,
   "metadata": {},
   "outputs": [
    {
     "name": "stdout",
     "output_type": "stream",
     "text": [
      "Average: 7989322.146268\n"
     ]
    },
    {
     "data": {
      "image/png": "[encoded data removed]",
      "text/plain": [
       "<matplotlib.figure.Figure at 0x7f25e63c6908>"
      ]
     },
     "metadata": {},
     "output_type": "display_data"
    }
   ],
   "source": [
    "m_x, M_x = np.min(x[:,0]), np.max(x[:,0])\n",
    "s_x = (M_x - m_x)/100\n",
    "\n",
    "m_y, M_y = np.min(x[:,1]), np.max(x[:,1])\n",
    "s_y = (M_y - m_y)/ (100 * (M_y - m_y)/(M_x - m_x))\n",
    "\n",
    "densities = []\n",
    "for xi in np.arange(m_x, M_x, s_x):\n",
    "    y_arr = []\n",
    "    for yi in np.arange(m_y, M_y, s_y):\n",
    "        y_arr.append(0)\n",
    "    densities.append(y_arr)\n",
    "\n",
    "for l in x:\n",
    "    l_x = l[0]\n",
    "    l_y = l[1]\n",
    "    try:\n",
    "        densities[int(l_x/s_x)][int(l_y/s_y)]+=1\n",
    "    except:\n",
    "        pass\n",
    "\n",
    "    \n",
    "dens = []\n",
    "for i in densities:\n",
    "    for j in i:\n",
    "        dens.append(j)\n",
    "        \n",
    "average_density = np.average(dens) / (s_x * s_y)\n",
    "print (\"Average: %f\" % average_density)\n",
    "        \n",
    "plt.hist(dens, 100, facecolor='g', alpha=0.75)\n",
    "plt.xscale('log')\n",
    "plt.show()"
   ]
  },
  {
   "cell_type": "code",
   "execution_count": 23,
   "metadata": {},
   "outputs": [
    {
     "name": "stdout",
     "output_type": "stream",
     "text": [
      "Void threshold: 2509.919576\n"
     ]
    }
   ],
   "source": [
    "########### Settings start here ############\n",
    "a2 = 0.1**2\n",
    "r2 = 0.02**2\n",
    "r_void_outer2 = 0.01**2\n",
    "r_void_inner2 = 0.005**2\n",
    "N_angles = 24 #must be even, angles in range [0, pi), step pi/N_angles\n",
    "########### Settings end here ##############\n",
    "\n",
    "void_threshold = np.pi * r_void_outer2 * average_density\n",
    "print(\"Void threshold: %f\" % void_threshold)\n",
    "\n",
    "angles = np.arange(0, N_angles)\n",
    "angles_sin_cos = [[np.sin(alpha * np.pi/N_angles), np.cos(alpha * np.pi/N_angles)] for alpha in angles]\n",
    "\n",
    "filaments = []\n",
    "groups = []\n",
    "voids = []\n",
    "done = []\n",
    "\n",
    "def classify(_subhalos):\n",
    "    for subhalo in _subhalos:\n",
    "        f_g = f_v = f_f = False\n",
    "\n",
    "        x0 = subhalo[0]\n",
    "        y0 = subhalo[1]\n",
    "        subhalo_id = subhalo[2]\n",
    "\n",
    "        dx0 = x[:,0] - x0\n",
    "        dx1 = x[:,1] - y0\n",
    "\n",
    "        void_inner = delta_circle(dx0, dx1, r_void_inner2)\n",
    "        void_outer = delta_circle(dx0, dx1, r_void_outer2)\n",
    "        if (void_outer - void_inner) / float(void_inner) > 6 and void_inner < void_threshold:\n",
    "            voids.append(subhalo_id)\n",
    "        else:\n",
    "            values = []\n",
    "            for alpha_s_c in angles_sin_cos:\n",
    "                d = delta_ellipse(dx0, dx1, a2, r2, alpha_s_c[0], alpha_s_c[1])\n",
    "                values.append(d)\n",
    "            values = np.array(values)\n",
    "            M = np.max(values)\n",
    "            M_idx = values.argmax()\n",
    "            M90 = values[(angles == M_idx - len(angles)/2) if M_idx - len(angles)/2 >= 0 else (angles == M_idx + len(angles)/2)][0]    \n",
    "            if (M/M90 >= 3):\n",
    "                filaments.append(subhalo_id)\n",
    "            if (M/M90 <= 2 and M > void_threshold):\n",
    "                groups.append(subhalo_id)\n",
    "        done.append(subhalo_id)"
   ]
  },
  {
   "cell_type": "code",
   "execution_count": 24,
   "metadata": {
    "scrolled": false
   },
   "outputs": [
    {
     "name": "stdout",
     "output_type": "stream",
     "text": [
      "Starting job # 17 in a separate thread.\n",
      "Starting job # 18 in a separate thread.\n",
      "Starting job # 19 in a separate thread.\n",
      "Starting job # 20 in a separate thread.\n",
      "Starting job # 21 in a separate thread.\n",
      "Starting job # 22 in a separate thread.\n",
      "Starting job # 23 in a separate thread.\n",
      "Starting job # 24 in a separate thread.\n",
      "Starting job # 25 in a separate thread.\n",
      "Starting job # 26 in a separate thread.\n",
      "Starting job # 27 in a separate thread.\n",
      "Starting job # 28 in a separate thread.\n",
      "Starting job # 29 in a separate thread.\n",
      "Starting job # 30 in a separate thread.\n",
      "Starting job # 31 in a separate thread.\n",
      "Starting job # 32 in a separate thread.\n"
     ]
    }
   ],
   "source": [
    "if len(jobs.running) == 0:\n",
    "    for s in np.array_split(subhalos_x, 16):\n",
    "        %job classify(s)\n",
    "else:\n",
    "    print(\"Probably something is already running!!!\")"
   ]
  },
  {
   "cell_type": "code",
   "execution_count": 45,
   "metadata": {},
   "outputs": [
    {
     "name": "stdout",
     "output_type": "stream",
     "text": [
      "f 8810, g 8478, v 1098, total 48818\n"
     ]
    }
   ],
   "source": [
    "#a = len(done)\n",
    "#time.sleep(60)\n",
    "#print (len(done) - a)\n",
    "print(\"f %d, g %d, v %d, total %d\" % (len(filaments), len(groups), len(voids), len(done))) \n",
    "#jobs.status()\n",
    "#coord[np.in1d(coord[:,0], voids)][:,[0,1]].astype(int)"
   ]
  },
  {
   "cell_type": "code",
   "execution_count": 42,
   "metadata": {},
   "outputs": [
    {
     "name": "stdout",
     "output_type": "stream",
     "text": [
      "Running jobs:\n",
      "17 : classify(s)\n",
      "18 : classify(s)\n",
      "19 : classify(s)\n",
      "20 : classify(s)\n",
      "21 : classify(s)\n",
      "22 : classify(s)\n",
      "23 : classify(s)\n",
      "24 : classify(s)\n",
      "25 : classify(s)\n",
      "26 : classify(s)\n",
      "27 : classify(s)\n",
      "28 : classify(s)\n",
      "29 : classify(s)\n",
      "30 : classify(s)\n",
      "31 : classify(s)\n",
      "32 : classify(s)\n",
      "\n",
      "Completed jobs:\n",
      "0 : classify(s)\n",
      "2 : classify(s)\n",
      "3 : classify(s)\n",
      "4 : classify(s)\n",
      "5 : classify(s)\n",
      "6 : classify(s)\n",
      "7 : classify(s)\n",
      "8 : classify(s)\n",
      "9 : classify(s)\n",
      "10 : classify(s)\n",
      "11 : classify(s)\n",
      "12 : classify(s)\n",
      "13 : classify(s)\n",
      "14 : classify(s)\n",
      "15 : classify(s)\n",
      "16 : classify(s)\n",
      "\n"
     ]
    }
   ],
   "source": [
    "jobs.status()"
   ]
  },
  {
   "cell_type": "code",
   "execution_count": null,
   "metadata": {},
   "outputs": [],
   "source": [
    "stophere"
   ]
  },
  {
   "cell_type": "code",
   "execution_count": null,
   "metadata": {},
   "outputs": [],
   "source": [
    "#filaments = np.array(filaments)\n",
    "#groups = np.array(groups)\n",
    "#voids = np.array(voids)"
   ]
  },
  {
   "cell_type": "code",
   "execution_count": 46,
   "metadata": {},
   "outputs": [
    {
     "name": "stdout",
     "output_type": "stream",
     "text": [
      "f 8811, g 8480, v 1098, total 48823\n",
      "f 8981, g 8637, v 1116, total 49720\n",
      "f 9158, g 8752, v 1131, total 50613\n",
      "f 9324, g 8890, v 1151, total 51515\n",
      "f 9509, g 9043, v 1165, total 52405\n",
      "f 9655, g 9194, v 1183, total 53301\n",
      "f 9811, g 9379, v 1200, total 54199\n",
      "f 9963, g 9525, v 1220, total 55095\n",
      "f 10163, g 9683, v 1238, total 55992\n",
      "f 10341, g 9813, v 1257, total 56889\n",
      "f 10507, g 10002, v 1281, total 57793\n",
      "f 10684, g 10152, v 1301, total 58692\n",
      "f 10855, g 10287, v 1330, total 59602\n",
      "f 11031, g 10422, v 1358, total 60504\n",
      "f 11189, g 10588, v 1375, total 61401\n",
      "f 11359, g 10739, v 1389, total 62292\n",
      "f 11525, g 10894, v 1412, total 63193\n",
      "f 11675, g 11019, v 1436, total 64097\n",
      "f 11822, g 11170, v 1451, total 64989\n",
      "f 11995, g 11316, v 1474, total 65888\n",
      "f 12176, g 11456, v 1499, total 66784\n",
      "f 12376, g 11548, v 1519, total 67689\n",
      "f 12461, g 11701, v 1524, total 68306\n",
      "f 12461, g 11701, v 1524, total 68306\n",
      "f 12461, g 11701, v 1524, total 68306\n",
      "f 12461, g 11701, v 1524, total 68306\n",
      "f 12461, g 11701, v 1524, total 68306\n",
      "f 12461, g 11701, v 1524, total 68306\n",
      "f 12461, g 11701, v 1524, total 68306\n"
     ]
    },
    {
     "ename": "KeyboardInterrupt",
     "evalue": "",
     "output_type": "error",
     "traceback": [
      "\u001b[0;31m---------------------------------------------------------------------------\u001b[0m",
      "\u001b[0;31mKeyboardInterrupt\u001b[0m                         Traceback (most recent call last)",
      "\u001b[0;32m<ipython-input-46-3adfa7bb00a0>\u001b[0m in \u001b[0;36m<module>\u001b[0;34m()\u001b[0m\n\u001b[1;32m     14\u001b[0m         \u001b[0;32mfor\u001b[0m \u001b[0mi\u001b[0m \u001b[0;32min\u001b[0m \u001b[0mvoids\u001b[0m\u001b[0;34m:\u001b[0m\u001b[0;34m\u001b[0m\u001b[0m\n\u001b[1;32m     15\u001b[0m             \u001b[0mf\u001b[0m\u001b[0;34m.\u001b[0m\u001b[0mwrite\u001b[0m\u001b[0;34m(\u001b[0m\u001b[0;34m\"%d\\n\"\u001b[0m \u001b[0;34m%\u001b[0m \u001b[0mi\u001b[0m\u001b[0;34m)\u001b[0m\u001b[0;34m\u001b[0m\u001b[0m\n\u001b[0;32m---> 16\u001b[0;31m     \u001b[0mtime\u001b[0m\u001b[0;34m.\u001b[0m\u001b[0msleep\u001b[0m\u001b[0;34m(\u001b[0m\u001b[0;36m600\u001b[0m\u001b[0;34m)\u001b[0m\u001b[0;34m\u001b[0m\u001b[0m\n\u001b[0m",
      "\u001b[0;31mKeyboardInterrupt\u001b[0m: "
     ]
    }
   ],
   "source": [
    "while True:\n",
    "\n",
    "    print(\"f %d, g %d, v %d, total %d\" % (len(filaments), len(groups), len(voids), len(done))) \n",
    "\n",
    "    with open(\"z0/filaments_ids_t\", 'w') as f: \n",
    "        for i in filaments:\n",
    "            f.write(\"%d\\n\" % i)\n",
    "\n",
    "    with open(\"z0/groups_ids_t\", 'w') as f: \n",
    "        for i in groups:\n",
    "            f.write(\"%d\\n\" % i)\n",
    "        \n",
    "    with open(\"z0/voids_ids_t\", 'w') as f: \n",
    "        for i in voids:\n",
    "            f.write(\"%d\\n\" % i)\n",
    "    time.sleep(600)"
   ]
  },
  {
   "cell_type": "code",
   "execution_count": null,
   "metadata": {},
   "outputs": [],
   "source": []
  }
 ],
 "metadata": {
  "kernelspec": {
   "display_name": "Python 3",
   "language": "python",
   "name": "python3"
  },
  "language_info": {
   "codemirror_mode": {
    "name": "ipython",
    "version": 3
   },
   "file_extension": ".py",
   "mimetype": "text/x-python",
   "name": "python",
   "nbconvert_exporter": "python",
   "pygments_lexer": "ipython3",
   "version": "3.6.4"
  }
 },
 "nbformat": 4,
 "nbformat_minor": 2
}
